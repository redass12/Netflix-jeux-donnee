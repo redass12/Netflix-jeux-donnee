{
 "cells": [
  {
   "cell_type": "markdown",
   "metadata": {},
   "source": [
    "# Jeu de donnée de Netflix "
   ]
  },
  {
   "attachments": {},
   "cell_type": "markdown",
   "metadata": {},
   "source": [
    "les informations de notre base de donnée : \n",
    "\n",
    "Nous allons avoir plusieurs informations sur les films et les séries qui sont dans le catalogue de Netflix.\n",
    "\n",
    "nos variables :\n",
    "\n",
    "- identifiants.\n",
    "- type.\n",
    "- titre.\n",
    "- Le réalisateur.\n",
    "- Les gens qui sont dans le cast, c'est les acteurs.\n",
    "- Le pays d'orgine.\n",
    "- La date à laquel le film à été ajouté dans la base de donnée de Netflix.\n",
    "- L'année à laquel le film est sortie.\n",
    "- rating. \n",
    "- la durée.\n",
    "- catégorie du film.\n",
    "- la description.\n",
    "\n",
    "Dans ce petit projet vous allez devoir récupérer des informations à partir de ce fichier csv\n"
   ]
  },
  {
   "attachments": {},
   "cell_type": "markdown",
   "metadata": {},
   "source": [
    "### 1. Lire le fichier csv : netflix.titles.csv"
   ]
  },
  {
   "cell_type": "code",
   "execution_count": null,
   "metadata": {},
   "outputs": [],
   "source": [
    "# écris ton code ici \n"
   ]
  },
  {
   "attachments": {},
   "cell_type": "markdown",
   "metadata": {},
   "source": [
    "### 2.  Afficher les 8 premières lignes"
   ]
  },
  {
   "cell_type": "code",
   "execution_count": null,
   "metadata": {},
   "outputs": [],
   "source": [
    "# écris ton code ici"
   ]
  },
  {
   "cell_type": "markdown",
   "metadata": {},
   "source": [
    "### Afficher les 10 dernières lignes"
   ]
  },
  {
   "cell_type": "code",
   "execution_count": null,
   "metadata": {},
   "outputs": [],
   "source": [
    "# écris ton code ici"
   ]
  },
  {
   "cell_type": "markdown",
   "metadata": {},
   "source": [
    "### 3. trouver le réalisateur qui a le plus grand nombre de films dans le dataframe"
   ]
  },
  {
   "cell_type": "code",
   "execution_count": null,
   "metadata": {},
   "outputs": [],
   "source": [
    "# écris ton code ici"
   ]
  },
  {
   "attachments": {},
   "cell_type": "markdown",
   "metadata": {},
   "source": [
    "### 2. Récupérez les trois pays qui ont le plus de films sur Netflix à partir du fichier CSV de Netflix."
   ]
  },
  {
   "attachments": {},
   "cell_type": "markdown",
   "metadata": {},
   "source": [
    "Ce qu'on le veut savoir c'est combien de film ont été produit par chaque pays\n",
    "\n",
    "Résultat attendu : {\"United States\" : 2555, \"India\" : 923, \"United Kingdom\" : 397}\n",
    "\n",
    "Le but de cet exercice est de compter, combien on de films qui proviennent des différents pays et ensuite de récupérer <br>\n",
    "3 premiers pays qui ont le plus de films.\n",
    "\n",
    "Pour ceux qui y arrive à passer l'objet pandas à l'objet python en mettant le résultat entre accolade."
   ]
  },
  {
   "cell_type": "code",
   "execution_count": null,
   "metadata": {},
   "outputs": [],
   "source": [
    "# écris ton code ici "
   ]
  },
  {
   "attachments": {},
   "cell_type": "markdown",
   "metadata": {},
   "source": [
    "### 3. Récupérer le nombre de film"
   ]
  },
  {
   "attachments": {},
   "cell_type": "markdown",
   "metadata": {},
   "source": [
    "Vous allez devoir récupérer le nombre de film qui est sorti chaque année. \n",
    "Le résultat que l'on doit avoir c'est d'un côté l'année et de l'autre côté le nombre de film qui est sorti cette année.\n",
    "Récupérer seulement les 10 premiers éléments."
   ]
  },
  {
   "cell_type": "code",
   "execution_count": null,
   "metadata": {},
   "outputs": [],
   "source": [
    "# écris ton code ici "
   ]
  },
  {
   "attachments": {},
   "cell_type": "markdown",
   "metadata": {},
   "source": [
    "### 4. Vous devez récupérer la liste de tous les réalisateurs (sans doublons) présents sur la plateforme Netflix."
   ]
  },
  {
   "attachments": {},
   "cell_type": "markdown",
   "metadata": {},
   "source": [
    "Résultat attendu :  \n",
    "```python\n",
    "[\"Jorge Michel Grau\",\n",
    "    \"Gilbert Chan\",\n",
    "    \"Shane Acker\",\n",
    "    \"Robert Luketic\",\n",
    "    \"Serdar Akar\",\n",
    "    \"Yasir Al yasiri\",\n",
    "    \"Kevin Reynolds\",\n",
    "    \"Shravan Kumar\",\n",
    "    \"Vikram Bhatt\",\n",
    "    \"Zak Hilditch\"]\n",
    "```\n",
    "    \n",
    "   "
   ]
  },
  {
   "attachments": {},
   "cell_type": "markdown",
   "metadata": {},
   "source": [
    "### 5. Comment récupérer la durée moyenne des films présents dans le jeu de données Netflix ?"
   ]
  },
  {
   "attachments": {},
   "cell_type": "markdown",
   "metadata": {},
   "source": [
    "Vous devez récupérer la durée moyenne des films présents dans le jeu de données Netflix. Vous devez ignorer les rangées qui contiennent un numéro de saison en durée et ne conserver que les rangées avec des données en minutes."
   ]
  },
  {
   "cell_type": "code",
   "execution_count": null,
   "metadata": {},
   "outputs": [],
   "source": [
    "# écris ton code ici "
   ]
  }
 ],
 "metadata": {
  "kernelspec": {
   "display_name": "Python 3",
   "language": "python",
   "name": "python3"
  },
  "language_info": {
   "codemirror_mode": {
    "name": "ipython",
    "version": 3
   },
   "file_extension": ".py",
   "mimetype": "text/x-python",
   "name": "python",
   "nbconvert_exporter": "python",
   "pygments_lexer": "ipython3",
   "version": "3.9.6"
  },
  "orig_nbformat": 4,
  "vscode": {
   "interpreter": {
    "hash": "31f2aee4e71d21fbe5cf8b01ff0e069b9275f58929596ceb00d14d90e3e16cd6"
   }
  }
 },
 "nbformat": 4,
 "nbformat_minor": 2
}
